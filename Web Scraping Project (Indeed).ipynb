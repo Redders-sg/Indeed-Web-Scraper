{
 "cells": [
  {
   "cell_type": "code",
   "execution_count": 1,
   "id": "85ed281f",
   "metadata": {},
   "outputs": [],
   "source": [
    "from bs4 import BeautifulSoup\n",
    "import requests\n",
    "import pandas as pd\n",
    "from random import randint\n",
    "from time import sleep"
   ]
  },
  {
   "cell_type": "code",
   "execution_count": 2,
   "id": "e1ec996a",
   "metadata": {},
   "outputs": [],
   "source": [
    "job_title = []\n",
    "company_name = []\n",
    "salary = []\n",
    "frequency = []\n",
    "page_numbers = ['https://uk.indeed.com/jobs?q=project+manager&l=United+Kingdom&fromage=10&start=10']\n",
    "location = []"
   ]
  },
  {
   "cell_type": "code",
   "execution_count": 3,
   "id": "d2b9f2ee",
   "metadata": {},
   "outputs": [],
   "source": [
    "# Where all data is taken from accompanying tags\n",
    "def results_card(url):\n",
    "    page = requests.get(url)\n",
    "    soup = BeautifulSoup(page.content, \"html.parser\")\n",
    "    div = soup.find(class_=\"jobsearch-ResultsList css-0\")\n",
    "\n",
    "    #find job title using span and only if parent is an <a> tag\n",
    "    title = div.find_all(\"span\")\n",
    "    for job in title:\n",
    "        parent = job.parent\n",
    "        if parent.name == \"a\" and job.string != None:\n",
    "            job_title.append(job.string)\n",
    "\n",
    "        company = div.find_all(class_=\"companyName\")\n",
    "        for comp in company:\n",
    "            company_name.append(comp.string)\n",
    "\n",
    "        items = soup.find_all(\"td\", class_=\"resultContent\")\n",
    "        for item in items:\n",
    "            salary_string(item)\n",
    "\n",
    "        company_locations = div.find_all(class_=\"companyLocation\")\n",
    "        for loc in company_locations:\n",
    "            location.append(loc.string)\n",
    "        \n",
    "\n",
    "\n",
    "def salary_string(item):\n",
    "    item = str(item.text)\n",
    "    if \"£\" not in item:\n",
    "        salary.append(0)\n",
    "    else:\n",
    "        item = item.split(\"£\")\n",
    "        item = item[1:]\n",
    "        if item[-1] > item[0]:\n",
    "            item = item[0] + item[1]\n",
    "            salary_split(item)\n",
    "        else:\n",
    "            item = item[0]\n",
    "            salary_split(item)\n",
    "        \n",
    "\n",
    "    def salary_split(item):\n",
    "            item = item.split(\"a\", 1)\n",
    "            item = str(item)\n",
    "            item = item.split(\"-\")\n",
    "            item = item[-1]\n",
    "            item = item.replace(\" \", \"\")\n",
    "            item = item.replace(\",\", \"\")\n",
    "            salary.append(item)"
   ]
  },
  {
   "cell_type": "code",
   "execution_count": 4,
   "id": "a9c1d34d",
   "metadata": {
    "scrolled": false
   },
   "outputs": [],
   "source": [
    "i = 0\n",
    "while i < 5:\n",
    "    try:\n",
    "        url = page_numbers[i]\n",
    "        page = requests.get(url)\n",
    "        soup = BeautifulSoup(page.content, \"html.parser\")\n",
    "        pagination = soup.find(class_=\"pagination\")\n",
    "\n",
    "        sleep(1)\n",
    "\n",
    "        a_tag = pagination.find_all(\"a\")\n",
    "        for href in a_tag:\n",
    "            href = href.get('href')\n",
    "            href = \"https://uk.indeed.com\" + href\n",
    "            if href not in page_numbers:\n",
    "                page_numbers.append(href)\n",
    "\n",
    "        results_card(url)\n",
    "        sleep(randint(3,5))\n",
    "\n",
    "        i +=1\n",
    "    except:\n",
    "        i +=1"
   ]
  },
  {
   "cell_type": "code",
   "execution_count": 5,
   "id": "a088f200",
   "metadata": {},
   "outputs": [],
   "source": [
    "df = pd.DataFrame(list(zip(job_title, company_name, salary, frequency, location)),\n",
    "               columns =['Title', 'Company Name', 'JD Salary', 'Frequency','Location'])"
   ]
  },
  {
   "cell_type": "code",
   "execution_count": 6,
   "id": "efc2eb33",
   "metadata": {
    "scrolled": true
   },
   "outputs": [
    {
     "data": {
      "text/html": [
       "<div>\n",
       "<style scoped>\n",
       "    .dataframe tbody tr th:only-of-type {\n",
       "        vertical-align: middle;\n",
       "    }\n",
       "\n",
       "    .dataframe tbody tr th {\n",
       "        vertical-align: top;\n",
       "    }\n",
       "\n",
       "    .dataframe thead th {\n",
       "        text-align: right;\n",
       "    }\n",
       "</style>\n",
       "<table border=\"1\" class=\"dataframe\">\n",
       "  <thead>\n",
       "    <tr style=\"text-align: right;\">\n",
       "      <th></th>\n",
       "      <th>Title</th>\n",
       "      <th>Company Name</th>\n",
       "      <th>JD Salary</th>\n",
       "      <th>Frequency</th>\n",
       "      <th>Location</th>\n",
       "    </tr>\n",
       "  </thead>\n",
       "  <tbody>\n",
       "  </tbody>\n",
       "</table>\n",
       "</div>"
      ],
      "text/plain": [
       "Empty DataFrame\n",
       "Columns: [Title, Company Name, JD Salary, Frequency, Location]\n",
       "Index: []"
      ]
     },
     "execution_count": 6,
     "metadata": {},
     "output_type": "execute_result"
    }
   ],
   "source": [
    "df"
   ]
  },
  {
   "cell_type": "code",
   "execution_count": 7,
   "id": "2456a2f2",
   "metadata": {},
   "outputs": [],
   "source": [
    "writer = pd.ExcelWriter('output.xlsx')\n",
    "df.to_excel(writer)\n",
    "writer.save()"
   ]
  }
 ],
 "metadata": {
  "kernelspec": {
   "display_name": "Python 3 (ipykernel)",
   "language": "python",
   "name": "python3"
  },
  "language_info": {
   "codemirror_mode": {
    "name": "ipython",
    "version": 3
   },
   "file_extension": ".py",
   "mimetype": "text/x-python",
   "name": "python",
   "nbconvert_exporter": "python",
   "pygments_lexer": "ipython3",
   "version": "3.9.12"
  }
 },
 "nbformat": 4,
 "nbformat_minor": 5
}
